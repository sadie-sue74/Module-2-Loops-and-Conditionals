{
 "cells": [
  {
   "cell_type": "markdown",
   "id": "f829b338-9a75-41a7-b7ae-0fbc93a23fc3",
   "metadata": {},
   "source": [
    "## Session 6.3"
   ]
  },
  {
   "cell_type": "code",
   "execution_count": 1,
   "id": "49d41477-6c71-4da1-abd3-9e8049c10c8d",
   "metadata": {},
   "outputs": [
    {
     "name": "stdout",
     "output_type": "stream",
     "text": [
      "too low\n",
      "too low\n",
      "too low\n",
      "too low\n",
      "too low\n",
      "Found it!\n",
      "oops\n"
     ]
    }
   ],
   "source": [
    "## This code will use a for look to run through a range of 10 numbers.\n",
    "## It will print too low of the number is under 5, found it if the number is 5, and break out when the number is over 5 with an oops\n",
    "\n",
    "# Variables\n",
    "guess_me = 5\n",
    "\n",
    "for number in range(10): ## setting up a range of 10 numbers\n",
    "    if number < guess_me: ## If the number is lower print too low\n",
    "        print(\"too low\")\n",
    "    elif number == guess_me: ## If the number matches guess me print Found it\n",
    "        print(\"Found it!\")\n",
    "    else:\n",
    "        print(\"oops\") ## If the number is anything else, it will print oops and exit out of the code\n",
    "        break"
   ]
  }
 ],
 "metadata": {
  "kernelspec": {
   "display_name": "Python 3 (ipykernel)",
   "language": "python",
   "name": "python3"
  },
  "language_info": {
   "codemirror_mode": {
    "name": "ipython",
    "version": 3
   },
   "file_extension": ".py",
   "mimetype": "text/x-python",
   "name": "python",
   "nbconvert_exporter": "python",
   "pygments_lexer": "ipython3",
   "version": "3.13.5"
  }
 },
 "nbformat": 4,
 "nbformat_minor": 5
}
