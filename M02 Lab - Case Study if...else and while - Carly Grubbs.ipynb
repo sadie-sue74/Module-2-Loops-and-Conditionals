{
 "cells": [
  {
   "cell_type": "markdown",
   "id": "4d5ad01d-5e38-4797-949e-26f76f86cc5f",
   "metadata": {},
   "source": [
    "## M02 Lab - Case Study: if...else and while"
   ]
  },
  {
   "cell_type": "code",
   "execution_count": 1,
   "id": "909e445c-28f0-46d9-9a4a-3cdb92df24ae",
   "metadata": {},
   "outputs": [
    {
     "name": "stdout",
     "output_type": "stream",
     "text": [
      "This code will ask you for a student's first name and their GPA.\n",
      "Then it will let you know if the user has made the Dean's List or the Honor Roll.\n",
      "To exit the program, please enter in ZZZ in the student's name.\n"
     ]
    },
    {
     "name": "stdin",
     "output_type": "stream",
     "text": [
      "Please enter in the student's last name or ZZZ to quit:  Grubbs\n",
      "Please enter in the student's first name:  Carly\n",
      "Please enter the student's GPA(please make sure to enter as X.X):  4.0\n"
     ]
    },
    {
     "name": "stdout",
     "output_type": "stream",
     "text": [
      "Carly Grubbs has made the Dean's list.\n"
     ]
    },
    {
     "name": "stdin",
     "output_type": "stream",
     "text": [
      "Please enter in the student's last name or ZZZ to quit:  Grubbs\n",
      "Please enter in the student's first name:  Joey\n",
      "Please enter the student's GPA(please make sure to enter as X.X):  3.5\n"
     ]
    },
    {
     "name": "stdout",
     "output_type": "stream",
     "text": [
      "Joey Grubbs has made the Dean's list.\n"
     ]
    },
    {
     "name": "stdin",
     "output_type": "stream",
     "text": [
      "Please enter in the student's last name or ZZZ to quit:  Moss\n",
      "Please enter in the student's first name:  Corri\n",
      "Please enter the student's GPA(please make sure to enter as X.X):  3.3\n"
     ]
    },
    {
     "name": "stdout",
     "output_type": "stream",
     "text": [
      "Corri Moss has made the Honor Roll.\n"
     ]
    },
    {
     "name": "stdin",
     "output_type": "stream",
     "text": [
      "Please enter in the student's last name or ZZZ to quit:  Wooten\n",
      "Please enter in the student's first name:  Carson\n",
      "Please enter the student's GPA(please make sure to enter as X.X):  3.25\n"
     ]
    },
    {
     "name": "stdout",
     "output_type": "stream",
     "text": [
      "Carson Wooten has made the Honor Roll.\n"
     ]
    },
    {
     "name": "stdin",
     "output_type": "stream",
     "text": [
      "Please enter in the student's last name or ZZZ to quit:  Adcodk\n",
      "Please enter in the student's first name:  Clayton\n",
      "Please enter the student's GPA(please make sure to enter as X.X):  3.0\n"
     ]
    },
    {
     "name": "stdout",
     "output_type": "stream",
     "text": [
      "Clayton Adcodk has not made the Dean's List or the Honor Roll.\n"
     ]
    },
    {
     "name": "stdin",
     "output_type": "stream",
     "text": [
      "Please enter in the student's last name or ZZZ to quit:  ZZZ\n"
     ]
    },
    {
     "name": "stdout",
     "output_type": "stream",
     "text": [
      "Thank you for using this program.\n"
     ]
    }
   ],
   "source": [
    "## Carly Grubbs\n",
    "## Module 2 Lab - Case Study: if...else and while\n",
    "## This code will ask for a student's first name and their GPA\n",
    "## Then let the user know if they are on the Dean's List or the Honor Roll\n",
    "## When then use ZZZ to exit the application\n",
    "\n",
    "## Describing the application to the user\n",
    "\n",
    "print(\"This code will ask you for a student's first name and their GPA.\")\n",
    "print(\"Then it will let you know if the user has made the Dean's List or the Honor Roll.\")\n",
    "print(\"To exit the program, please enter in ZZZ in the student's name.\")\n",
    "\n",
    "while True:\n",
    "    last_name = input(\"Please enter in the student's last name or ZZZ to quit: \") ## Ask for the student's last name or ZZZ(zzz) to quit\n",
    "    if last_name.upper() == \"ZZZ\" or last_name.lower() == \"zzz\": ## Quitting the program if ZZZ(zzz) are entered\n",
    "        print(\"Thank you for using this program.\")\n",
    "        break\n",
    "\n",
    "    first_name = input(\"Please enter in the student's first name: \") ## Ask for the student's first name\n",
    "\n",
    "    ##This will let the user know if the student made the Dean's List, Honor Roll, or neither\n",
    "    gpa = float(input(\"Please enter the student's GPA(please make sure to enter as X.X): \"))\n",
    "    if gpa >= 3.5:\n",
    "        print(f\"{first_name} {last_name} has made the Dean's list.\")\n",
    "    elif gpa >= 3.25:\n",
    "        print(f\"{first_name} {last_name} has made the Honor Roll.\")\n",
    "    else:\n",
    "        print(f\"{first_name} {last_name} has not made the Dean's List or the Honor Roll.\")"
   ]
  }
 ],
 "metadata": {
  "kernelspec": {
   "display_name": "Python 3 (ipykernel)",
   "language": "python",
   "name": "python3"
  },
  "language_info": {
   "codemirror_mode": {
    "name": "ipython",
    "version": 3
   },
   "file_extension": ".py",
   "mimetype": "text/x-python",
   "name": "python",
   "nbconvert_exporter": "python",
   "pygments_lexer": "ipython3",
   "version": "3.13.5"
  }
 },
 "nbformat": 4,
 "nbformat_minor": 5
}
