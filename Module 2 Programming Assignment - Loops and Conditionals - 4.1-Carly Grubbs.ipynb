{
 "cells": [
  {
   "cell_type": "markdown",
   "id": "018cdf31-559b-4d3d-af42-7aaa12a6d03f",
   "metadata": {},
   "source": [
    "## Session 4.1"
   ]
  },
  {
   "cell_type": "code",
   "execution_count": 1,
   "id": "60c9e100-997c-40a3-96fe-8346219bdec1",
   "metadata": {},
   "outputs": [
    {
     "name": "stdout",
     "output_type": "stream",
     "text": [
      "This program will ask you for a number between 1 and 10.\n",
      "Then the computer will select a random number between 1 and 10.\n",
      "Once the computer has the two numbers it will let you know if your number is too high/to low/just righ the computer number.\n",
      "\n"
     ]
    },
    {
     "name": "stdin",
     "output_type": "stream",
     "text": [
      "Please enter your number:  7\n"
     ]
    },
    {
     "name": "stdout",
     "output_type": "stream",
     "text": [
      "Too high\n",
      "\n",
      "Your Number:  7\n",
      "My Number:  2\n"
     ]
    }
   ],
   "source": [
    "## This code will ask for you to enter a number bewteen 1 and 10.\n",
    "## Then it will tell you if your number is higher or lower than the number the computer has selected.\n",
    "## When getting the number right it will let you know.\n",
    "\n",
    "import random\n",
    "\n",
    "secret = random.randint(1, 10) ## Computer is selecting a random number between 1 and 10\n",
    "\n",
    "## Description of the code\n",
    "print(\"This program will ask you for a number between 1 and 10.\")\n",
    "print(\"Then the computer will select a random number between 1 and 10.\")\n",
    "print(\"Once the computer has the two numbers it will let you know if your number is too high/to low/just righ the computer number.\")\n",
    "\n",
    "print() ## Prints a blank line\n",
    "\n",
    "user_number = input(\"Please enter your number: \") ## Asking the user to enter a number between 1 and 10 setting it to a variable user_number\n",
    "guess = int(user_number) ## Converting the user_number variable to an INT from a STRING\n",
    "\n",
    "if secret > guess: ## Comparing if the user number is less than the computer number and sending the output\n",
    "    print(\"Too low\")\n",
    "elif secret < guess: ## Comparing if the user number is greater than the computer number and sending the output\n",
    "    print(\"Too high\")\n",
    "else: ## Printing if the numbers match printing the output\n",
    "    print(\"Just right\")\n",
    "\n",
    "print() ## Printing a blank line\n",
    "\n",
    "## Printing ther user and computer numbers.\n",
    "print(\"Your Number: \", guess)\n",
    "print(\"My Number: \", secret)"
   ]
  }
 ],
 "metadata": {
  "kernelspec": {
   "display_name": "Python 3 (ipykernel)",
   "language": "python",
   "name": "python3"
  },
  "language_info": {
   "codemirror_mode": {
    "name": "ipython",
    "version": 3
   },
   "file_extension": ".py",
   "mimetype": "text/x-python",
   "name": "python",
   "nbconvert_exporter": "python",
   "pygments_lexer": "ipython3",
   "version": "3.13.5"
  }
 },
 "nbformat": 4,
 "nbformat_minor": 5
}
