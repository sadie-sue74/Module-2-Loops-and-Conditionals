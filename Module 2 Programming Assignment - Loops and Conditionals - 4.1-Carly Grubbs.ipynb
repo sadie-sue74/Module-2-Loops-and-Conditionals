{
 "cells": [
  {
   "cell_type": "markdown",
   "id": "018cdf31-559b-4d3d-af42-7aaa12a6d03f",
   "metadata": {},
   "source": [
    "## Session 4.1"
   ]
  },
  {
   "cell_type": "code",
   "execution_count": null,
   "id": "60c9e100-997c-40a3-96fe-8346219bdec1",
   "metadata": {},
   "outputs": [],
   "source": []
  }
 ],
 "metadata": {
  "kernelspec": {
   "display_name": "Python 3 (ipykernel)",
   "language": "python",
   "name": "python3"
  },
  "language_info": {
   "codemirror_mode": {
    "name": "ipython",
    "version": 3
   },
   "file_extension": ".py",
   "mimetype": "text/x-python",
   "name": "python",
   "nbconvert_exporter": "python",
   "pygments_lexer": "ipython3",
   "version": "3.13.5"
  }
 },
 "nbformat": 4,
 "nbformat_minor": 5
}
