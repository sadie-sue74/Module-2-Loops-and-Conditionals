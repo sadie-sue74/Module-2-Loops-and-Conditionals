{
 "cells": [
  {
   "cell_type": "markdown",
   "id": "368c649b-5fff-405a-84ed-8b943a4dcd7d",
   "metadata": {},
   "source": [
    "## Session 6.2"
   ]
  },
  {
   "cell_type": "code",
   "execution_count": 1,
   "id": "f0e0df16-cbc9-4279-aceb-73ede11d9406",
   "metadata": {},
   "outputs": [
    {
     "name": "stdout",
     "output_type": "stream",
     "text": [
      "Too Low\n",
      "Too Low\n",
      "Too Low\n",
      "Too Low\n",
      "Too Low\n",
      "Too Low\n",
      "Found It\n",
      "oops\n"
     ]
    }
   ],
   "source": [
    "## This code will print too low, found it, or oops using a while loop\n",
    "\n",
    "## Variable assignment\n",
    "guess_me = 7\n",
    "number = 1\n",
    "\n",
    "## While statement will compare the number to guess me and print the matching results always adding 1 to number at the end of the loop.\n",
    "## When the number is neither lower or matching guess me, it will print oops and break out of the while loop.\n",
    "\n",
    "while True:\n",
    "    if number < guess_me:\n",
    "        print(\"Too Low\")\n",
    "    elif number == guess_me: \n",
    "        print (\"Found It\")\n",
    "    else:\n",
    "        print (\"oops\")\n",
    "        break\n",
    "    number += 1"
   ]
  }
 ],
 "metadata": {
  "kernelspec": {
   "display_name": "Python 3 (ipykernel)",
   "language": "python",
   "name": "python3"
  },
  "language_info": {
   "codemirror_mode": {
    "name": "ipython",
    "version": 3
   },
   "file_extension": ".py",
   "mimetype": "text/x-python",
   "name": "python",
   "nbconvert_exporter": "python",
   "pygments_lexer": "ipython3",
   "version": "3.13.5"
  }
 },
 "nbformat": 4,
 "nbformat_minor": 5
}
